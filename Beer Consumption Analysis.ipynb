{
 "cells": [
  {
   "cell_type": "code",
   "execution_count": 49,
   "id": "f6cc42cb",
   "metadata": {},
   "outputs": [],
   "source": [
    "import numpy as np\n",
    "import pandas as pd\n",
    "import seaborn as sns\n",
    "import matplotlib.pyplot as plt\n",
    "import pickle\n",
    "from sklearn.metrics import r2_score\n",
    "from sklearn.model_selection import train_test_split\n",
    "from sklearn.linear_model import LinearRegression, Lasso, Ridge"
   ]
  },
  {
   "cell_type": "code",
   "execution_count": 2,
   "id": "aa8cdf71",
   "metadata": {},
   "outputs": [],
   "source": [
    "df = pd.read_csv(\"Consumo_cerveja.csv\")"
   ]
  },
  {
   "cell_type": "code",
   "execution_count": null,
   "id": "6c75cf5a",
   "metadata": {},
   "outputs": [],
   "source": [
    "df.head()"
   ]
  },
  {
   "cell_type": "code",
   "execution_count": 4,
   "id": "be336c0a",
   "metadata": {},
   "outputs": [
    {
     "data": {
      "text/plain": [
       "(941, 7)"
      ]
     },
     "execution_count": 4,
     "metadata": {},
     "output_type": "execute_result"
    }
   ],
   "source": [
    "df.shape"
   ]
  },
  {
   "cell_type": "code",
   "execution_count": 5,
   "id": "adee7e4e",
   "metadata": {},
   "outputs": [],
   "source": [
    "df.columns = [\"Data\", \"Medium Temperature\", \"Minimum Temperature\",\n",
    "              \"Maximum Temperature\", \"Precipitacao\", \"End of Week\",\n",
    "              \"Beer Consumption\"]"
   ]
  },
  {
   "cell_type": "code",
   "execution_count": null,
   "id": "e4cb0460",
   "metadata": {},
   "outputs": [],
   "source": [
    "df.isnull().sum()"
   ]
  },
  {
   "cell_type": "code",
   "execution_count": null,
   "id": "696a849b",
   "metadata": {},
   "outputs": [],
   "source": [
    "df.info()"
   ]
  },
  {
   "cell_type": "code",
   "execution_count": 8,
   "id": "67a9e427",
   "metadata": {},
   "outputs": [],
   "source": [
    "df.dropna(how=\"all\", inplace=True)"
   ]
  },
  {
   "cell_type": "code",
   "execution_count": 15,
   "id": "7910e34e",
   "metadata": {},
   "outputs": [],
   "source": [
    "cols = df.columns[1:5]"
   ]
  },
  {
   "cell_type": "code",
   "execution_count": 17,
   "id": "69ff2685",
   "metadata": {},
   "outputs": [],
   "source": [
    "for col in cols:\n",
    "    df[col] = df[col].str.replace(\",\", \".\")\n",
    "    df[col] = df[col].apply(pd.to_numeric)"
   ]
  },
  {
   "cell_type": "code",
   "execution_count": 20,
   "id": "88093692",
   "metadata": {},
   "outputs": [
    {
     "data": {
      "text/plain": [
       "(365, 7)"
      ]
     },
     "execution_count": 20,
     "metadata": {},
     "output_type": "execute_result"
    }
   ],
   "source": [
    "df.shape"
   ]
  },
  {
   "cell_type": "code",
   "execution_count": 23,
   "id": "42231e1f",
   "metadata": {},
   "outputs": [],
   "source": [
    "df[\"Data\"] = pd.to_datetime(df[\"Data\"])\n",
    "df[\"Day\"] = df[\"Data\"].dt.day\n",
    "df[\"Month\"] = df[\"Data\"].dt.month\n",
    "df[\"Year\"] = df[\"Data\"].dt.year"
   ]
  },
  {
   "cell_type": "code",
   "execution_count": 25,
   "id": "83fbb8e8",
   "metadata": {},
   "outputs": [],
   "source": [
    "df.drop(\"Data\", axis=1, inplace=True)"
   ]
  },
  {
   "cell_type": "code",
   "execution_count": 27,
   "id": "9867f894",
   "metadata": {},
   "outputs": [],
   "source": [
    "df = df[[\"Day\", \"Month\", \"Year\", \"Medium Temperature\", \"Minimum Temperature\",\n",
    "         \"Maximum Temperature\", \"Precipitacao\", \"End of Week\", \"Beer Consumption\"]]"
   ]
  },
  {
   "cell_type": "code",
   "execution_count": null,
   "id": "ccc507af",
   "metadata": {},
   "outputs": [],
   "source": [
    "df.head()"
   ]
  },
  {
   "cell_type": "code",
   "execution_count": null,
   "id": "2c900d3d",
   "metadata": {},
   "outputs": [],
   "source": [
    "sns.lineplot(x=\"Medium Temperature\", y=\"Beer Consumption\", data=df)"
   ]
  },
  {
   "cell_type": "code",
   "execution_count": null,
   "id": "7034e0c8",
   "metadata": {},
   "outputs": [],
   "source": [
    "sns.lineplot(x=\"Precipitacao\", y=\"Beer Consumption\", data=df)"
   ]
  },
  {
   "cell_type": "code",
   "execution_count": 34,
   "id": "52c406a3",
   "metadata": {},
   "outputs": [
    {
     "data": {
      "text/plain": [
       "Year\n",
       "2015    365\n",
       "Name: count, dtype: int64"
      ]
     },
     "execution_count": 34,
     "metadata": {},
     "output_type": "execute_result"
    }
   ],
   "source": [
    "df[\"Year\"].value_counts()"
   ]
  },
  {
   "cell_type": "code",
   "execution_count": null,
   "id": "8269a9f8",
   "metadata": {},
   "outputs": [],
   "source": [
    "sns.barplot(x='Day',y=\"Beer Consumption\",data=df)"
   ]
  },
  {
   "cell_type": "code",
   "execution_count": 36,
   "id": "dac64891",
   "metadata": {},
   "outputs": [],
   "source": [
    "df = df.drop([\"Day\", \"Month\", \"Year\"], axis=1)"
   ]
  },
  {
   "cell_type": "code",
   "execution_count": 37,
   "id": "fd58eba4",
   "metadata": {},
   "outputs": [],
   "source": [
    "X = df.drop(\"Beer Consumption\", axis=1)\n",
    "y = df[\"Beer Consumption\"]"
   ]
  },
  {
   "cell_type": "code",
   "execution_count": 41,
   "id": "5c694146",
   "metadata": {},
   "outputs": [],
   "source": [
    "X_train, X_test, y_train, y_test = train_test_split(X, y, test_size=0.2, random_state=4242)"
   ]
  },
  {
   "cell_type": "code",
   "execution_count": 44,
   "id": "d6ff5850",
   "metadata": {},
   "outputs": [],
   "source": [
    "linreg = LinearRegression()\n",
    "linreg.fit(X_train, y_train)\n",
    "y_pred = linreg.predict(X_test)\n",
    "ac1 = r2_score(y_test, y_pred)"
   ]
  },
  {
   "cell_type": "code",
   "execution_count": 45,
   "id": "b300a253",
   "metadata": {},
   "outputs": [],
   "source": [
    "lasso = Lasso()\n",
    "lasso.fit(X_train, y_train)\n",
    "y_pred = lasso.predict(X_test)\n",
    "ac2 = r2_score(y_test, y_pred)"
   ]
  },
  {
   "cell_type": "code",
   "execution_count": 46,
   "id": "91e1528a",
   "metadata": {},
   "outputs": [],
   "source": [
    "ridge = Ridge()\n",
    "ridge.fit(X_train, y_train)\n",
    "y_pred = ridge.predict(X_test)\n",
    "ac3 = r2_score(y_test, y_pred)"
   ]
  },
  {
   "cell_type": "code",
   "execution_count": 47,
   "id": "bb54be13",
   "metadata": {},
   "outputs": [],
   "source": [
    "names = [\"Linear Regressino\", \"Lasso\", \"Ridge\"]\n",
    "scores = [ac1, ac2, ac3]"
   ]
  },
  {
   "cell_type": "code",
   "execution_count": 48,
   "id": "78742f2a",
   "metadata": {},
   "outputs": [
    {
     "data": {
      "text/html": [
       "<div>\n",
       "<style scoped>\n",
       "    .dataframe tbody tr th:only-of-type {\n",
       "        vertical-align: middle;\n",
       "    }\n",
       "\n",
       "    .dataframe tbody tr th {\n",
       "        vertical-align: top;\n",
       "    }\n",
       "\n",
       "    .dataframe thead th {\n",
       "        text-align: right;\n",
       "    }\n",
       "</style>\n",
       "<table border=\"1\" class=\"dataframe\">\n",
       "  <thead>\n",
       "    <tr style=\"text-align: right;\">\n",
       "      <th></th>\n",
       "      <th>Model</th>\n",
       "      <th>R2 Scores</th>\n",
       "    </tr>\n",
       "  </thead>\n",
       "  <tbody>\n",
       "    <tr>\n",
       "      <th>0</th>\n",
       "      <td>Linear Regressino</td>\n",
       "      <td>0.731133</td>\n",
       "    </tr>\n",
       "    <tr>\n",
       "      <th>1</th>\n",
       "      <td>Lasso</td>\n",
       "      <td>0.377432</td>\n",
       "    </tr>\n",
       "    <tr>\n",
       "      <th>2</th>\n",
       "      <td>Ridge</td>\n",
       "      <td>0.730447</td>\n",
       "    </tr>\n",
       "  </tbody>\n",
       "</table>\n",
       "</div>"
      ],
      "text/plain": [
       "               Model  R2 Scores\n",
       "0  Linear Regressino   0.731133\n",
       "1              Lasso   0.377432\n",
       "2              Ridge   0.730447"
      ]
     },
     "execution_count": 48,
     "metadata": {},
     "output_type": "execute_result"
    }
   ],
   "source": [
    "models = pd.DataFrame({\"Model\": names, \"R2 Scores\": scores})\n",
    "models.head()"
   ]
  },
  {
   "cell_type": "code",
   "execution_count": 50,
   "id": "f2094f31",
   "metadata": {},
   "outputs": [],
   "source": [
    "pickle.dump(linreg, open(\"linreg.pkl\", \"wb\"))"
   ]
  },
  {
   "cell_type": "code",
   "execution_count": 52,
   "id": "c217c121",
   "metadata": {},
   "outputs": [
    {
     "data": {
      "text/plain": [
       "<AxesSubplot: xlabel='Model', ylabel='R2 Scores'>"
      ]
     },
     "execution_count": 52,
     "metadata": {},
     "output_type": "execute_result"
    },
    {
     "data": {
      "image/png": "[encoded data removed]",
      "text/plain": [
       "<Figure size 640x480 with 1 Axes>"
      ]
     },
     "metadata": {},
     "output_type": "display_data"
    }
   ],
   "source": [
    "sns.barplot(x=\"Model\", y=\"R2 Scores\", data=models)"
   ]
  },
  {
   "cell_type": "code",
   "execution_count": null,
   "id": "0ddc76d7",
   "metadata": {},
   "outputs": [],
   "source": []
  }
 ],
 "metadata": {
  "kernelspec": {
   "display_name": "Python 3 (ipykernel)",
   "language": "python",
   "name": "python3"
  },
  "language_info": {
   "codemirror_mode": {
    "name": "ipython",
    "version": 3
   },
   "file_extension": ".py",
   "mimetype": "text/x-python",
   "name": "python",
   "nbconvert_exporter": "python",
   "pygments_lexer": "ipython3",
   "version": "3.11.2"
  }
 },
 "nbformat": 4,
 "nbformat_minor": 5
}
